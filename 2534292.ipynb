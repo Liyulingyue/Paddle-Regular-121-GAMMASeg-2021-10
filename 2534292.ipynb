{
 "cells": [
  {
   "cell_type": "markdown",
   "metadata": {
    "collapsed": false
   },
   "source": [
    "# 常规赛：视杯视盘分割（GAMMA挑战赛任务三）\n",
    "## 任务描述\n",
    "给定一组分割数据，训练分割模型。\n",
    "## 技术路线\n",
    "通过PaddleSeg调用Unet训练三分类模型。\n",
    "## 说明\n",
    "本项目包含了截止到2021年11月3日为止的测试记录，对应的模型信息参考测试记录。"
   ]
  },
  {
   "cell_type": "markdown",
   "metadata": {
    "collapsed": false
   },
   "source": [
    "# 测试记录\n",
    "\n",
    "如果你喜欢我的测试记录，并认为这个项目和记录对你有帮助，欢迎在之后的版本中也更新并公开你的测试记录~\n",
    "\n",
    "|Index| 版本 | score | disc | cup | vCDR | 备注 |\n",
    "| --------| -------- | -------- | -------- | -------- | -------- | -------- | \n",
    "|0| 版本0     |7.00177\t|0.86745\t|0.74444\t|0.09006\t    | 仅使用Resize, Norm, 训练100次     |\n",
    "|1| 版本0     |7.91845|\t0.91196\t|0.83259\t|0.05122\t    | 增加了transforms, 训练4000次时崩溃，备注此次训练结果为1     |\n",
    "|2| 版本1     |7.98176|\t0.9226\t|0.83887\t|0.05063\t\t    | 在1基础上训练，保存为2     |\n",
    "|3| 版本2     |\t8.13688\t|0.93803|\t0.85106\t|0.04673\t\t    | 在2基础上训练，重新划分数据集，保存为3     |\n",
    "|4| 版本2     |\t8.11225\t|0.93858|\t0.84898\t|0.04789\t\t    | 在3基础上训练。<font color=#ff0000>效果比3差，可能这就已经是这种模式下的极限了</font>     |\n",
    "|5| 版本3     |\t7.26362\t|0.87501|\t0.76456\t|0.0747\t\t\t    | 更替了Resize的大小为1000*1500，效果不是特别好，保存为4     |"
   ]
  },
  {
   "cell_type": "markdown",
   "metadata": {
    "collapsed": false
   },
   "source": [
    "# 正式开始\n",
    "## 获取数据"
   ]
  },
  {
   "cell_type": "code",
   "execution_count": null,
   "metadata": {
    "collapsed": false
   },
   "outputs": [],
   "source": [
    "! wget https://dataset-bj.cdn.bcebos.com/%E5%8C%BB%E7%96%97%E6%AF%94%E8%B5%9B/task3_disc_cup_segmentation.zip"
   ]
  },
  {
   "cell_type": "code",
   "execution_count": null,
   "metadata": {
    "collapsed": false
   },
   "outputs": [],
   "source": [
    "! unzip -oq /home/aistudio/task3_disc_cup_segmentation.zip"
   ]
  },
  {
   "cell_type": "markdown",
   "metadata": {
    "collapsed": false
   },
   "source": [
    "## 准备包"
   ]
  },
  {
   "cell_type": "code",
   "execution_count": 1,
   "metadata": {
    "collapsed": false
   },
   "outputs": [],
   "source": [
    "!pip install paddleseg\r\n",
    "\r\n",
    "#导入常用的库\r\n",
    "import os\r\n",
    "import random\r\n",
    "import numpy as np\r\n",
    "from random import shuffle\r\n",
    "import cv2\r\n",
    "import paddle\r\n",
    "from PIL import Image\r\n",
    "import shutil\r\n",
    "import re\r\n",
    "from paddle.vision.transforms import functional as F\r\n",
    "import os.path\r\n",
    "import paddleseg.transforms as T\r\n",
    "from paddleseg.datasets import OpticDiscSeg,Dataset\r\n",
    "import paddleseg.models\r\n",
    "from paddleseg.models import UNet\r\n",
    "from paddleseg.models import OCRNet\r\n",
    "from paddleseg.models.losses import CrossEntropyLoss,DiceLoss, MixedLoss\r\n",
    "from paddleseg.core import train\r\n",
    "from paddleseg.core import evaluate\r\n",
    "from paddleseg.core import predict\r\n",
    "from PIL import Image"
   ]
  },
  {
   "cell_type": "markdown",
   "metadata": {
    "collapsed": false
   },
   "source": [
    "## 数据转化\n",
    "\n",
    "PaddleSeg需要使用txt文档指定训练信息，同样要求训练标签从0,1,2....开始编号。"
   ]
  },
  {
   "cell_type": "code",
   "execution_count": null,
   "metadata": {
    "collapsed": false
   },
   "outputs": [
    {
     "name": "stdout",
     "output_type": "stream",
     "text": [
      "mkdir: cannot create directory ‘training/mask’: File exists\r\n"
     ]
    }
   ],
   "source": [
    "# 转化训练标签到指定格式\r\n",
    "! mkdir training/mask\r\n",
    "for item in os.listdir('training/Disc_Cup_Mask'):\r\n",
    "    im=Image.open('training/Disc_Cup_Mask/'+item)\r\n",
    "    im=(np.array(im).astype(float)/255*2).astype(int).astype('uint8')\r\n",
    "    im = Image.fromarray(im)\r\n",
    "    im.save('training/mask/'+item)"
   ]
  },
  {
   "cell_type": "code",
   "execution_count": null,
   "metadata": {
    "collapsed": false
   },
   "outputs": [],
   "source": [
    "# 观察图片尺寸\r\n",
    "names = [item.split('.')[0] for item in os.listdir('training/fundus_color_images')]\r\n",
    "img_dir='/home/aistudio/training/fundus_color_images/'\r\n",
    "mask_dir='/home/aistudio/training/mask/'\r\n",
    "for name in names:\r\n",
    "    im=Image.open(img_dir+name+'.jpg')\r\n",
    "    print(np.array(im).shape)"
   ]
  },
  {
   "cell_type": "code",
   "execution_count": null,
   "metadata": {
    "collapsed": false
   },
   "outputs": [
    {
     "name": "stdout",
     "output_type": "stream",
     "text": [
      "have renamed\n"
     ]
    }
   ],
   "source": [
    "# 生成对应的图片-标签数据\r\n",
    "try: \r\n",
    "    os.rename('/home/aistudio/training/fundus color images/','/home/aistudio/training/fundus_color_images/')\r\n",
    "except:\r\n",
    "    print('have renamed')\r\n",
    "names = [item.split('.')[0] for item in os.listdir('training/fundus_color_images')]\r\n",
    "ori_train_list=[]\r\n",
    "img_dir='/home/aistudio/training/fundus_color_images/'\r\n",
    "mask_dir='/home/aistudio/training/mask/'\r\n",
    "for name in names:\r\n",
    "    if os.path.exists(img_dir+name+'.jpg') and os.path.exists(mask_dir+name+'.png'):\r\n",
    "        ori_train_list.append(img_dir+name+'.jpg '+mask_dir+name+'.png'+'\\n')"
   ]
  },
  {
   "cell_type": "code",
   "execution_count": null,
   "metadata": {
    "collapsed": false
   },
   "outputs": [],
   "source": [
    "# 生成txt文档\r\n",
    "cut_percent=0.1\r\n",
    "cut_point=int(cut_percent*len(ori_train_list))\r\n",
    "random.shuffle(ori_train_list)\r\n",
    "\r\n",
    "with open('train.txt','w') as f:\r\n",
    "    for item in ori_train_list[cut_point:]:\r\n",
    "        f.write(item)\r\n",
    "\r\n",
    "with open('eval.txt','w') as f:\r\n",
    "    for item in ori_train_list[:cut_point]:\r\n",
    "        f.write(item)"
   ]
  },
  {
   "cell_type": "markdown",
   "metadata": {
    "collapsed": false
   },
   "source": [
    "## 训练\n",
    "\n",
    "这里直接使用了1000*1500的Resize大小，可以根据测试记录找到自己想要的Reszie格式"
   ]
  },
  {
   "cell_type": "code",
   "execution_count": 2,
   "metadata": {
    "collapsed": false
   },
   "outputs": [],
   "source": [
    "# 定义transforms\r\n",
    "train_transforms = [\r\n",
    "    T.RandomHorizontalFlip(),# 水平翻转\r\n",
    "    T.RandomVerticalFlip(),# 垂直翻转\r\n",
    "    T.RandomDistort(0.4),# 随机扭曲\r\n",
    "    T.RandomBlur(0.3),# 高斯模糊\r\n",
    "    T.RandomScaleAspect(min_scale=0.5,aspect_ratio=0.5),# 随机缩放\r\n",
    "    T.Resize(target_size=(1000,1500)),\r\n",
    "    T.Normalize()  # 图像标准化\r\n",
    "]\r\n",
    "\r\n",
    "val_transforms = [\r\n",
    "    T.Resize(target_size=(1000,1500)),\r\n",
    "    T.Normalize()\r\n",
    "]"
   ]
  },
  {
   "cell_type": "code",
   "execution_count": 4,
   "metadata": {
    "collapsed": false
   },
   "outputs": [],
   "source": [
    "# 构建训练集\r\n",
    "train_dataset = Dataset(\r\n",
    "    dataset_root='/home/aistudio',\r\n",
    "    train_path='/home/aistudio/train.txt',\r\n",
    "    transforms=train_transforms,\r\n",
    "    num_classes=3,\r\n",
    "    mode='train'\r\n",
    ")\r\n",
    "#验证集\r\n",
    "val_dataset = Dataset(\r\n",
    "    dataset_root='/home/aistudio',\r\n",
    "    val_path='/home/aistudio/eval.txt',\r\n",
    "    transforms=val_transforms,\r\n",
    "    num_classes=3,\r\n",
    "    mode='val'\r\n",
    ")"
   ]
  },
  {
   "cell_type": "code",
   "execution_count": 5,
   "metadata": {
    "collapsed": false
   },
   "outputs": [
    {
     "name": "stderr",
     "output_type": "stream",
     "text": [
      "W1102 09:29:32.724684   143 device_context.cc:404] Please NOTE: device: 0, GPU Compute Capability: 7.0, Driver API Version: 10.1, Runtime API Version: 10.1\n",
      "W1102 09:29:32.730556   143 device_context.cc:422] device: 0, cuDNN Version: 7.6.\n"
     ]
    }
   ],
   "source": [
    "model = UNet(num_classes=3)\r\n",
    "# model = UNet(num_classes=3,pretrained='output/UNet/3/model.pdparams')#使用预训练模型unet进行训练"
   ]
  },
  {
   "cell_type": "code",
   "execution_count": 6,
   "metadata": {
    "collapsed": false
   },
   "outputs": [],
   "source": [
    "base_lr =0.001\r\n",
    "iters = 10000\r\n",
    "\r\n",
    "#自动调整学习率\r\n",
    "lr =paddle.optimizer.lr.CosineAnnealingDecay(base_lr, T_max=(iters // 3), last_epoch=0.5)\r\n",
    "u_optimizer = paddle.optimizer.Adam(lr, parameters=model.parameters())\r\n",
    "\r\n",
    "mixtureLosses = [CrossEntropyLoss(),DiceLoss() ]\r\n",
    "mixtureCoef = [0,1]\r\n",
    "losses = {}\r\n",
    "losses['types'] = [MixedLoss(mixtureLosses, mixtureCoef)]\r\n",
    "losses['coef'] = [1]"
   ]
  },
  {
   "cell_type": "code",
   "execution_count": 7,
   "metadata": {
    "collapsed": false
   },
   "outputs": [],
   "source": [
    "#进行训练\r\n",
    "train(\r\n",
    "    model = model,\r\n",
    "    train_dataset=train_dataset,\r\n",
    "    val_dataset=val_dataset,\r\n",
    "    optimizer=u_optimizer,\r\n",
    "    save_dir='output/UNet',\r\n",
    "    iters=iters,  \r\n",
    "    batch_size=3, \r\n",
    "    save_interval=2000,\r\n",
    "    log_iters=20,\r\n",
    "    num_workers=2,\r\n",
    "    losses=losses,\r\n",
    "    # losses=CrossEntropyLoss(),\r\n",
    "    use_vdl=False\r\n",
    "    )"
   ]
  },
  {
   "cell_type": "markdown",
   "metadata": {
    "collapsed": false
   },
   "source": [
    "## 预测"
   ]
  },
  {
   "cell_type": "code",
   "execution_count": 8,
   "metadata": {
    "collapsed": false
   },
   "outputs": [
    {
     "name": "stdout",
     "output_type": "stream",
     "text": [
      "2021-11-02 14:22:55 [INFO]\tLoading pretrained model from output/UNet/best_model/model.pdparams\n",
      "2021-11-02 14:22:55 [INFO]\tThere are 112/112 variables loaded into UNet.\n",
      "2021-11-02 14:22:55 [INFO]\tStart to predict...\n"
     ]
    },
    {
     "name": "stderr",
     "output_type": "stream",
     "text": [
      "100/100 [==============================] - 46s 457ms/st\n"
     ]
    }
   ],
   "source": [
    "test_list=[\"testing/fundus color images/\"+item for item in os.listdir(\"testing/fundus color images\")]\r\n",
    "\r\n",
    "transforms = T.Compose([\r\n",
    "    T.Resize(target_size=(1000, 1500)),\r\n",
    "    T.Normalize()\r\n",
    "])\r\n",
    "\r\n",
    "model = paddleseg.models.UNet(num_classes=3)\r\n",
    "\r\n",
    "predict(\r\n",
    "    model,\r\n",
    "    #换自己保存的模型文件\r\n",
    "    model_path = 'output/UNet/best_model/model.pdparams',\r\n",
    "    transforms=transforms,\r\n",
    "    image_list=test_list,\r\n",
    "    save_dir='Predict_result',)"
   ]
  },
  {
   "cell_type": "markdown",
   "metadata": {
    "collapsed": false
   },
   "source": [
    "## 预测结果打包\n",
    "\n",
    "需要将预测结果转化为指定格式并打包提交"
   ]
  },
  {
   "cell_type": "code",
   "execution_count": 9,
   "metadata": {
    "collapsed": false
   },
   "outputs": [
    {
     "name": "stdout",
     "output_type": "stream",
     "text": [
      "mkdir: cannot create directory ‘Disc_Cup_Segmentations’: File exists\r\n"
     ]
    }
   ],
   "source": [
    "! mkdir Disc_Cup_Segmentations\r\n",
    "for img in os.listdir('Predict_result/pseudo_color_prediction'):\r\n",
    "    img_dir='Predict_result/pseudo_color_prediction/'+img\r\n",
    "    im=Image.open(img_dir)\r\n",
    "    im=Image.fromarray((np.array(im).astype(float)*255/2).round().astype('uint8'))\r\n",
    "    img=img.split('.')[0]\r\n",
    "    im.save('Disc_Cup_Segmentations/'+img+'.bmp')"
   ]
  },
  {
   "cell_type": "code",
   "execution_count": 10,
   "metadata": {
    "collapsed": false
   },
   "outputs": [],
   "source": [
    "! zip -q -r result.zip Disc_Cup_Segmentations"
   ]
  },
  {
   "cell_type": "markdown",
   "metadata": {
    "collapsed": false
   },
   "source": [
    "请点击[此处](https://ai.baidu.com/docs#/AIStudio_Project_Notebook/a38e5576)查看本环境基本用法.  <br>\n",
    "Please click [here ](https://ai.baidu.com/docs#/AIStudio_Project_Notebook/a38e5576) for more detailed instructions. "
   ]
  }
 ],
 "metadata": {
  "kernelspec": {
   "display_name": "Python 3",
   "language": "python",
   "name": "py35-paddle1.2.0"
  },
  "language_info": {
   "codemirror_mode": {
    "name": "ipython",
    "version": 3
   },
   "file_extension": ".py",
   "mimetype": "text/x-python",
   "name": "python",
   "nbconvert_exporter": "python",
   "pygments_lexer": "ipython3",
   "version": "3.7.4"
  }
 },
 "nbformat": 4,
 "nbformat_minor": 1
}
